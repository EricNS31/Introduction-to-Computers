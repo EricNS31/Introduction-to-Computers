{
  "nbformat": 4,
  "nbformat_minor": 0,
  "metadata": {
    "colab": {
      "provenance": [],
      "authorship_tag": "ABX9TyPBt+A8mZOWTDnwr+4D1CHD",
      "include_colab_link": true
    },
    "kernelspec": {
      "name": "python3",
      "display_name": "Python 3"
    },
    "language_info": {
      "name": "python"
    }
  },
  "cells": [
    {
      "cell_type": "markdown",
      "metadata": {
        "id": "view-in-github",
        "colab_type": "text"
      },
      "source": [
        "<a href=\"https://colab.research.google.com/github/EricNS31/Introduction-to-Computers/blob/main/0524.ipynb\" target=\"_parent\"><img src=\"https://colab.research.google.com/assets/colab-badge.svg\" alt=\"Open In Colab\"/></a>"
      ]
    },
    {
      "cell_type": "code",
      "execution_count": 2,
      "metadata": {
        "colab": {
          "base_uri": "https://localhost:8080/"
        },
        "id": "4051y2xEapqp",
        "outputId": "9e17c86c-6620-48ae-9a0f-4d77f42e22e9"
      },
      "outputs": [
        {
          "output_type": "stream",
          "name": "stdout",
          "text": [
            "[0, 1, 2, 3, 4, 5, 6, 7, 8]\n"
          ]
        }
      ],
      "source": [
        "x=[]\n",
        "for i in range(0,9):\n",
        "  x.append(i)\n",
        "print(x)"
      ]
    },
    {
      "cell_type": "code",
      "source": [
        "x=[]\n",
        "for i in range(1,10):\n",
        "  x.append(i)\n",
        "print(x)"
      ],
      "metadata": {
        "colab": {
          "base_uri": "https://localhost:8080/"
        },
        "id": "Vobh6tMTbFhc",
        "outputId": "358c723c-ae91-4aaf-b892-d726bad6cdc8"
      },
      "execution_count": 3,
      "outputs": [
        {
          "output_type": "stream",
          "name": "stdout",
          "text": [
            "[1, 2, 3, 4, 5, 6, 7, 8, 9]\n"
          ]
        }
      ]
    },
    {
      "cell_type": "code",
      "source": [
        "x=[]\n",
        "for i in range(1,10,2):\n",
        "  x.append(i)\n",
        "print(x)"
      ],
      "metadata": {
        "colab": {
          "base_uri": "https://localhost:8080/"
        },
        "id": "huAdXSnMbXZM",
        "outputId": "9aa1ae7a-58ef-443f-fb2b-5ec47c7fb869"
      },
      "execution_count": 4,
      "outputs": [
        {
          "output_type": "stream",
          "name": "stdout",
          "text": [
            "[1, 3, 5, 7, 9]\n"
          ]
        }
      ]
    },
    {
      "cell_type": "code",
      "source": [
        "x=[]\n",
        "for i in range(10,1,-2):\n",
        "  x.append(i)\n",
        "print(x)"
      ],
      "metadata": {
        "colab": {
          "base_uri": "https://localhost:8080/"
        },
        "id": "NBE_XbQYbbKk",
        "outputId": "c1df7790-d7c4-422e-b542-9bf13038eb03"
      },
      "execution_count": 5,
      "outputs": [
        {
          "output_type": "stream",
          "name": "stdout",
          "text": [
            "[10, 8, 6, 4, 2]\n"
          ]
        }
      ]
    },
    {
      "cell_type": "code",
      "source": [
        "x=int(input(\"請輸入一個正整數\"))\n",
        "for i in range(0,x+1):\n",
        "  print(i,end=\" \")"
      ],
      "metadata": {
        "colab": {
          "base_uri": "https://localhost:8080/"
        },
        "id": "dhVVo4pPbjRU",
        "outputId": "f5ea4a94-6150-4602-9745-9337c34019a8"
      },
      "execution_count": 6,
      "outputs": [
        {
          "output_type": "stream",
          "name": "stdout",
          "text": [
            "請輸入一個正整數5\n",
            "0 1 2 3 4 5 "
          ]
        }
      ]
    },
    {
      "cell_type": "code",
      "source": [
        "x=int(input(\"請輸入一個正整數：\"))\n",
        "y=0\n",
        "for i in range (1,x+1):\n",
        "  y+=i\n",
        "print(\"1到\"+str(x)+\"的整數和為：\"+str(y))"
      ],
      "metadata": {
        "colab": {
          "base_uri": "https://localhost:8080/"
        },
        "id": "6S73xfgybl84",
        "outputId": "e827dbbe-5e29-4943-bb06-6244db11bf56"
      },
      "execution_count": 7,
      "outputs": [
        {
          "output_type": "stream",
          "name": "stdout",
          "text": [
            "請輸入一個正整數：50\n",
            "1到50的整數和為：1275\n"
          ]
        }
      ]
    },
    {
      "cell_type": "code",
      "source": [
        "x=int(input(\"請輸入一個正整數：\"))\n",
        "y=0\n",
        "for i  in range(1,x+1):\n",
        "  y=0\n",
        "  for ii in range (1,i+1):\n",
        "    y+=ii\n",
        "  print(\"1到\"+str(x)+\"的整數和為：\"+str(y))"
      ],
      "metadata": {
        "colab": {
          "base_uri": "https://localhost:8080/"
        },
        "id": "TADWtdIXbqSv",
        "outputId": "1ec5db7a-e4b5-4d49-9185-6f6b6a59b7d6"
      },
      "execution_count": 8,
      "outputs": [
        {
          "output_type": "stream",
          "name": "stdout",
          "text": [
            "請輸入一個正整數：10\n",
            "1到10的整數和為：1\n",
            "1到10的整數和為：3\n",
            "1到10的整數和為：6\n",
            "1到10的整數和為：10\n",
            "1到10的整數和為：15\n",
            "1到10的整數和為：21\n",
            "1到10的整數和為：28\n",
            "1到10的整數和為：36\n",
            "1到10的整數和為：45\n",
            "1到10的整數和為：55\n"
          ]
        }
      ]
    },
    {
      "cell_type": "code",
      "source": [],
      "metadata": {
        "id": "V2kqjV4WbvhU"
      },
      "execution_count": null,
      "outputs": []
    }
  ]
}