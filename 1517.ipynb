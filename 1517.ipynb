{
  "nbformat": 4,
  "nbformat_minor": 0,
  "metadata": {
    "colab": {
      "provenance": [],
      "authorship_tag": "ABX9TyOHihGmYnOkMRzOVVFeQ0hO",
      "include_colab_link": true
    },
    "kernelspec": {
      "name": "python3",
      "display_name": "Python 3"
    },
    "language_info": {
      "name": "python"
    }
  },
  "cells": [
    {
      "cell_type": "markdown",
      "metadata": {
        "id": "view-in-github",
        "colab_type": "text"
      },
      "source": [
        "<a href=\"https://colab.research.google.com/github/EricNS31/Introduction-to-Computers/blob/main/1517.ipynb\" target=\"_parent\"><img src=\"https://colab.research.google.com/assets/colab-badge.svg\" alt=\"Open In Colab\"/></a>"
      ]
    },
    {
      "cell_type": "code",
      "execution_count": 1,
      "metadata": {
        "colab": {
          "base_uri": "https://localhost:8080/"
        },
        "id": "8bREJ4TCLdFu",
        "outputId": "172060c0-3a34-49fc-96d1-6d06030ccdc8"
      },
      "outputs": [
        {
          "output_type": "stream",
          "name": "stdout",
          "text": [
            "今天會下雨嗎？Y\n",
            "記得帶傘\n"
          ]
        }
      ],
      "source": [
        "rain=str(input(\"今天會下雨嗎？\"))\n",
        "if (rain==\"Y\"or rain==\"y\"):\n",
        "  print('記得帶傘')\n",
        "elif(rain==\"N\"or rain==\"n\"):\n",
        "  print('不用帶傘')\n",
        "else:\n",
        "  print(\"輸入錯誤請重新輸入\")"
      ]
    },
    {
      "cell_type": "code",
      "source": [
        "a=float(input(\"請輸入體溫:\"))\n",
        "if a>=37.5:\n",
        "  print(\"體溫過高!\")\n",
        "elif a>=37 and a<=37.4:\n",
        "  print(\"體溫略高!\")\n",
        "elif a>=34 and a<=36.9:\n",
        "  print(\"體溫正常!\")\n",
        "else:\n",
        "  print(\"體溫異常，請重新測量!\")\n"
      ],
      "metadata": {
        "colab": {
          "base_uri": "https://localhost:8080/"
        },
        "id": "BucrOJQDL107",
        "outputId": "438df8f4-6800-49be-858c-79621537cd1f"
      },
      "execution_count": 2,
      "outputs": [
        {
          "output_type": "stream",
          "name": "stdout",
          "text": [
            "請輸入體溫:33\n",
            "體溫異常，請重新測量!\n"
          ]
        }
      ]
    },
    {
      "cell_type": "code",
      "source": [
        "month=int(input(\"請輸入月份:\"))\n",
        "if month>=3 and month<=5:\n",
        "  print(month,\"月是春天!\")\n",
        "elif month>=6 and month<=8:\n",
        "  print(month,\"月是夏天!\")\n",
        "elif month>=9 and month<=11:\n",
        "  print(month,\"月秋天!\")\n",
        "elif month==12 or month<=2:\n",
        "  print(month,\"月是冬天!\")\n",
        "else:\n",
        "  print(\"月份不在範圍內!\")"
      ],
      "metadata": {
        "colab": {
          "base_uri": "https://localhost:8080/"
        },
        "id": "XtFy5e3xL6Rn",
        "outputId": "4bdb0a51-18ae-4fe5-f98c-49b86dd16997"
      },
      "execution_count": 3,
      "outputs": [
        {
          "output_type": "stream",
          "name": "stdout",
          "text": [
            "請輸入月份:4\n",
            "4 月是春天!\n"
          ]
        }
      ]
    },
    {
      "cell_type": "code",
      "source": [
        "tax=int(input(\"請輸入今年收入淨額\"))\n",
        "if tax>=2000000:\n",
        "  print(\"付稅金額:\",tax*0.3,\"元\")\n",
        "elif tax>=1000000 and tax<2000000:\n",
        "  print(\"付稅金額:\",tax*0.21,\"元\")\n",
        "elif tax>=600000 and tax<1000000:\n",
        "  print(\"付稅金額:\",tax*0.13,\"元\")\n",
        "elif tax>=300000 and tax<600000:\n",
        "  print(\"付稅金額:\",tax*0.06,\"元\")  \n",
        "else:\n",
        "  print(\"付稅金額:0元\")\n",
        "     "
      ],
      "metadata": {
        "colab": {
          "base_uri": "https://localhost:8080/"
        },
        "id": "hacE_gTNL-PG",
        "outputId": "b9a13f9a-097e-4999-a4f5-70048532f986"
      },
      "execution_count": 4,
      "outputs": [
        {
          "output_type": "stream",
          "name": "stdout",
          "text": [
            "請輸入今年收入淨額100000\n",
            "付稅金額:0元\n"
          ]
        }
      ]
    },
    {
      "cell_type": "code",
      "source": [
        "score = int(input(\"score: \"))\n",
        "if score >= 90:\n",
        "    print('Grade is: A')\n",
        "elif score >= 80:\n",
        "    print('Grade is: B')\n",
        "elif score >= 70:\n",
        "    print('Grade is: C')\n",
        "elif score >= 60:\n",
        "    print('Grade is: D')\n",
        "else:\n",
        "    print('Grade is: F')"
      ],
      "metadata": {
        "colab": {
          "base_uri": "https://localhost:8080/"
        },
        "id": "KWoQ0xSNMC6h",
        "outputId": "e7a9a0ae-1703-4abe-ad1a-130c1f1a2bff"
      },
      "execution_count": 5,
      "outputs": [
        {
          "output_type": "stream",
          "name": "stdout",
          "text": [
            "score: 40\n",
            "Grade is: F\n"
          ]
        }
      ]
    },
    {
      "cell_type": "code",
      "source": [
        "score = int(input(\"請輸入成績\"))\n",
        "if score >= 90:\n",
        "    print('A')\n",
        "elif score >= 80:\n",
        "    print('B')\n",
        "elif score >= 70:\n",
        "    print('C')\n",
        "elif score >= 60:\n",
        "    print('D')\n",
        "else:\n",
        "    print('E')\n",
        "    "
      ],
      "metadata": {
        "colab": {
          "base_uri": "https://localhost:8080/"
        },
        "id": "KLrXdZPMMHsV",
        "outputId": "39cb05ec-dc07-4c68-87ea-ad4501045240"
      },
      "execution_count": 6,
      "outputs": [
        {
          "output_type": "stream",
          "name": "stdout",
          "text": [
            "請輸入成績40\n",
            "E\n"
          ]
        }
      ]
    },
    {
      "cell_type": "code",
      "source": [],
      "metadata": {
        "id": "9b-NiA0lMTsc"
      },
      "execution_count": null,
      "outputs": []
    }
  ]
}